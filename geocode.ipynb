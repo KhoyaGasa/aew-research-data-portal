{
 "cells": [
  {
   "cell_type": "markdown",
   "metadata": {},
   "source": [
    "## Testing the Gecoder\n",
    "<p>25th February </p>"
   ]
  },
  {
   "cell_type": "code",
   "execution_count": 42,
   "metadata": {},
   "outputs": [
    {
     "data": {
      "text/html": [
       "<div>\n",
       "<style scoped>\n",
       "    .dataframe tbody tr th:only-of-type {\n",
       "        vertical-align: middle;\n",
       "    }\n",
       "\n",
       "    .dataframe tbody tr th {\n",
       "        vertical-align: top;\n",
       "    }\n",
       "\n",
       "    .dataframe thead th {\n",
       "        text-align: right;\n",
       "    }\n",
       "</style>\n",
       "<table border=\"1\" class=\"dataframe\">\n",
       "  <thead>\n",
       "    <tr style=\"text-align: right;\">\n",
       "      <th></th>\n",
       "      <th>Actif_adresse</th>\n",
       "      <th>Commune</th>\n",
       "    </tr>\n",
       "  </thead>\n",
       "  <tbody>\n",
       "    <tr>\n",
       "      <th>0</th>\n",
       "      <td>14 rue des pavillions</td>\n",
       "      <td>Puteaux</td>\n",
       "    </tr>\n",
       "    <tr>\n",
       "      <th>1</th>\n",
       "      <td>6 rue germaine tillion</td>\n",
       "      <td>Bondy</td>\n",
       "    </tr>\n",
       "  </tbody>\n",
       "</table>\n",
       "</div>"
      ],
      "text/plain": [
       "            Actif_adresse  Commune\n",
       "0   14 rue des pavillions  Puteaux\n",
       "1  6 rue germaine tillion    Bondy"
      ]
     },
     "execution_count": 42,
     "metadata": {},
     "output_type": "execute_result"
    }
   ],
   "source": [
    "import pandas as pd\n",
    "dict = {\"Actif_adresse\": [\"14 rue des pavillions\",\"6 rue germaine tillion\"], \"Commune\": [\"Puteaux\",\"Bondy\"]}\n",
    "df =pd.DataFrame(data=dict)\n",
    "df"
   ]
  },
  {
   "cell_type": "code",
   "execution_count": 43,
   "metadata": {},
   "outputs": [
    {
     "data": {
      "text/plain": [
       "'6 rue germaine tillion'"
      ]
     },
     "execution_count": 43,
     "metadata": {},
     "output_type": "execute_result"
    }
   ],
   "source": [
    "df.Actif_adresse[1]"
   ]
  },
  {
   "cell_type": "code",
   "execution_count": 44,
   "metadata": {},
   "outputs": [],
   "source": [
    "def actif_geocoder(data, address_column:str)-> list:\n",
    "    \"\"\"Function that geocodes the addresses in the data frame\"\"\"\n",
    "    import requests\n",
    "    import json\n",
    "    import numpy as np\n",
    "    coord = []\n",
    "    address_book =[]\n",
    "    ## collect the adress and the comune from the data frame\n",
    "    for i in range(len(data.Actif_adresse)):\n",
    "        #print(i)\n",
    "        address_text = (data.Actif_adresse[i]+ \" \"+ data.Commune[i])\n",
    "        ## connect to the api and send request\n",
    "        url = \"https://api-adresse.data.gouv.fr/search/\"+\"?q=\"+str(address_text)\n",
    "        payload = {}\n",
    "        headers = {}\n",
    "        response =requests.request(\"GET\",url,headers=headers, data=payload)\n",
    "        ## serializing the response object\n",
    "        coord.append(response.json()['features'][0]['geometry']['coordinates'])\n",
    "        ## append the cordinates to the data Frame\n",
    "    longitude = [x[0] for x in coord]\n",
    "    latitude = [x[1] for x in coord]\n",
    "    data['X']= np.array(longitude)\n",
    "    data['Y'] = np.array(latitude)\n",
    "    ## write data to a file and return\n",
    "    ## data.write_csv()\n",
    "    return data\n",
    "    "
   ]
  },
  {
   "cell_type": "code",
   "execution_count": null,
   "metadata": {},
   "outputs": [],
   "source": [
    "def actif_geocoder(data, address_column:str)-> list:\n",
    "    \"\"\"Function that geocodes the addresses in the data frame\"\"\"\n",
    "    import requests\n",
    "    import json\n",
    "    import numpy as np\n",
    "    coord = []\n",
    "    address_book =[]\n",
    "    ## collect the adress and the comune from the data frame\n",
    "    for i in range(len(data.address_column)):\n",
    "        #print(i)\n",
    "        address_text = str(data.address_column[i])\n",
    "        ## connect to the api and send request\n",
    "        url = \"https://api-adresse.data.gouv.fr/search/\"+\"?q=\"+str(address_text)\n",
    "        payload = {}\n",
    "        headers = {}\n",
    "        response =requests.request(\"GET\",url,headers=headers, data=payload)\n",
    "        ## serializing the response object\n",
    "        coord.append(response.json()['features'][0]['geometry']['coordinates'])\n",
    "        ## append the cordinates to the data Frame\n",
    "    longitude = [x[0] for x in coord]\n",
    "    latitude = [x[1] for x in coord]\n",
    "    data['X']= np.array(longitude)\n",
    "    data['Y'] = np.array(latitude)\n",
    "    ## write data to a file and return\n",
    "    ## data.write_csv()\n",
    "    return data"
   ]
  },
  {
   "cell_type": "code",
   "execution_count": 45,
   "metadata": {},
   "outputs": [
    {
     "data": {
      "text/html": [
       "<div>\n",
       "<style scoped>\n",
       "    .dataframe tbody tr th:only-of-type {\n",
       "        vertical-align: middle;\n",
       "    }\n",
       "\n",
       "    .dataframe tbody tr th {\n",
       "        vertical-align: top;\n",
       "    }\n",
       "\n",
       "    .dataframe thead th {\n",
       "        text-align: right;\n",
       "    }\n",
       "</style>\n",
       "<table border=\"1\" class=\"dataframe\">\n",
       "  <thead>\n",
       "    <tr style=\"text-align: right;\">\n",
       "      <th></th>\n",
       "      <th>Actif_adresse</th>\n",
       "      <th>Commune</th>\n",
       "      <th>X</th>\n",
       "      <th>Y</th>\n",
       "    </tr>\n",
       "  </thead>\n",
       "  <tbody>\n",
       "    <tr>\n",
       "      <th>0</th>\n",
       "      <td>14 rue des pavillions</td>\n",
       "      <td>Puteaux</td>\n",
       "      <td>2.243298</td>\n",
       "      <td>48.882606</td>\n",
       "    </tr>\n",
       "    <tr>\n",
       "      <th>1</th>\n",
       "      <td>6 rue germaine tillion</td>\n",
       "      <td>Bondy</td>\n",
       "      <td>2.479733</td>\n",
       "      <td>48.913409</td>\n",
       "    </tr>\n",
       "  </tbody>\n",
       "</table>\n",
       "</div>"
      ],
      "text/plain": [
       "            Actif_adresse  Commune         X          Y\n",
       "0   14 rue des pavillions  Puteaux  2.243298  48.882606\n",
       "1  6 rue germaine tillion    Bondy  2.479733  48.913409"
      ]
     },
     "execution_count": 45,
     "metadata": {},
     "output_type": "execute_result"
    }
   ],
   "source": [
    "df2 =actif_geocoder(data=df)\n",
    "df2"
   ]
  },
  {
   "cell_type": "code",
   "execution_count": 46,
   "metadata": {},
   "outputs": [
    {
     "data": {
      "text/html": [
       "<div>\n",
       "<style scoped>\n",
       "    .dataframe tbody tr th:only-of-type {\n",
       "        vertical-align: middle;\n",
       "    }\n",
       "\n",
       "    .dataframe tbody tr th {\n",
       "        vertical-align: top;\n",
       "    }\n",
       "\n",
       "    .dataframe thead th {\n",
       "        text-align: right;\n",
       "    }\n",
       "</style>\n",
       "<table border=\"1\" class=\"dataframe\">\n",
       "  <thead>\n",
       "    <tr style=\"text-align: right;\">\n",
       "      <th></th>\n",
       "      <th>Actif_adresse</th>\n",
       "      <th>Commune</th>\n",
       "      <th>X</th>\n",
       "      <th>Y</th>\n",
       "    </tr>\n",
       "  </thead>\n",
       "  <tbody>\n",
       "    <tr>\n",
       "      <th>0</th>\n",
       "      <td>14 rue des pavillions</td>\n",
       "      <td>Puteaux</td>\n",
       "      <td>2.243298</td>\n",
       "      <td>48.882606</td>\n",
       "    </tr>\n",
       "    <tr>\n",
       "      <th>1</th>\n",
       "      <td>6 rue germaine tillion</td>\n",
       "      <td>Bondy</td>\n",
       "      <td>2.479733</td>\n",
       "      <td>48.913409</td>\n",
       "    </tr>\n",
       "  </tbody>\n",
       "</table>\n",
       "</div>"
      ],
      "text/plain": [
       "            Actif_adresse  Commune         X          Y\n",
       "0   14 rue des pavillions  Puteaux  2.243298  48.882606\n",
       "1  6 rue germaine tillion    Bondy  2.479733  48.913409"
      ]
     },
     "execution_count": 46,
     "metadata": {},
     "output_type": "execute_result"
    }
   ],
   "source": [
    "df2"
   ]
  },
  {
   "cell_type": "code",
   "execution_count": 40,
   "metadata": {},
   "outputs": [
    {
     "name": "stdout",
     "output_type": "stream",
     "text": [
      "Help on function actif_geocoder in module __main__:\n",
      "\n",
      "actif_geocoder(data) -> list\n",
      "    Function that geocodes the addresses in the data frame\n",
      "\n"
     ]
    }
   ],
   "source": [
    "## 1. update the function compatibility to work with any kind of Data frame\n",
    "## 2. User required to just indicate the names of the adress columns and the city/Commune\n",
    "## 3. return a new data frame in the working directory"
   ]
  }
 ],
 "metadata": {
  "kernelspec": {
   "display_name": "base",
   "language": "python",
   "name": "python3"
  },
  "language_info": {
   "codemirror_mode": {
    "name": "ipython",
    "version": 3
   },
   "file_extension": ".py",
   "mimetype": "text/x-python",
   "name": "python",
   "nbconvert_exporter": "python",
   "pygments_lexer": "ipython3",
   "version": "3.8.8"
  }
 },
 "nbformat": 4,
 "nbformat_minor": 2
}
